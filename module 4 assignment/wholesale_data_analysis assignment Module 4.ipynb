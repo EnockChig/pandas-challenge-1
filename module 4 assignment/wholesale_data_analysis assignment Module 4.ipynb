{
 "cells": [
  {
   "cell_type": "markdown",
   "id": "dc0318d6",
   "metadata": {},
   "source": [
    "## Part 1: Explore the Data\n",
    "\n",
    "Import the data and use Pandas to learn more about the dataset."
   ]
  },
  {
   "cell_type": "code",
   "execution_count": 1,
   "id": "e076f57f",
   "metadata": {},
   "outputs": [
    {
     "data": {
      "text/html": [
       "<div>\n",
       "<style scoped>\n",
       "    .dataframe tbody tr th:only-of-type {\n",
       "        vertical-align: middle;\n",
       "    }\n",
       "\n",
       "    .dataframe tbody tr th {\n",
       "        vertical-align: top;\n",
       "    }\n",
       "\n",
       "    .dataframe thead th {\n",
       "        text-align: right;\n",
       "    }\n",
       "</style>\n",
       "<table border=\"1\" class=\"dataframe\">\n",
       "  <thead>\n",
       "    <tr style=\"text-align: right;\">\n",
       "      <th></th>\n",
       "      <th>first</th>\n",
       "      <th>last</th>\n",
       "      <th>job</th>\n",
       "      <th>phone</th>\n",
       "      <th>email</th>\n",
       "      <th>client_id</th>\n",
       "      <th>order_id</th>\n",
       "      <th>order_date</th>\n",
       "      <th>order_week</th>\n",
       "      <th>order_year</th>\n",
       "      <th>item_id</th>\n",
       "      <th>category</th>\n",
       "      <th>subcategory</th>\n",
       "      <th>unit_price</th>\n",
       "      <th>unit_cost</th>\n",
       "      <th>unit_weight</th>\n",
       "      <th>qty</th>\n",
       "      <th>line_number</th>\n",
       "    </tr>\n",
       "  </thead>\n",
       "  <tbody>\n",
       "    <tr>\n",
       "      <th>0</th>\n",
       "      <td>Donald</td>\n",
       "      <td>Harding</td>\n",
       "      <td>Immunologist</td>\n",
       "      <td>793-904-7725x39308</td>\n",
       "      <td>harding.donald.7185@sullivan.com</td>\n",
       "      <td>58515</td>\n",
       "      <td>8953482</td>\n",
       "      <td>2023-04-28</td>\n",
       "      <td>17</td>\n",
       "      <td>2023</td>\n",
       "      <td>EUD29711-63-6U</td>\n",
       "      <td>decor</td>\n",
       "      <td>wall art</td>\n",
       "      <td>1096.80</td>\n",
       "      <td>762.71</td>\n",
       "      <td>7.50</td>\n",
       "      <td>105</td>\n",
       "      <td>1</td>\n",
       "    </tr>\n",
       "    <tr>\n",
       "      <th>1</th>\n",
       "      <td>Tiffany</td>\n",
       "      <td>Myers</td>\n",
       "      <td>Music therapist</td>\n",
       "      <td>201.442.4543x942</td>\n",
       "      <td>myers.t.6537@ferguson-johnson.net</td>\n",
       "      <td>37609</td>\n",
       "      <td>8069089</td>\n",
       "      <td>2023-05-19</td>\n",
       "      <td>20</td>\n",
       "      <td>2023</td>\n",
       "      <td>XDA18116-89-4A</td>\n",
       "      <td>consumables</td>\n",
       "      <td>pens</td>\n",
       "      <td>24.95</td>\n",
       "      <td>15.09</td>\n",
       "      <td>1.49</td>\n",
       "      <td>21</td>\n",
       "      <td>0</td>\n",
       "    </tr>\n",
       "    <tr>\n",
       "      <th>2</th>\n",
       "      <td>Shannon</td>\n",
       "      <td>Watson</td>\n",
       "      <td>Immunologist</td>\n",
       "      <td>687.737.9424x8503</td>\n",
       "      <td>swatson8146@payne.net</td>\n",
       "      <td>57113</td>\n",
       "      <td>1902144</td>\n",
       "      <td>2023-01-29</td>\n",
       "      <td>4</td>\n",
       "      <td>2023</td>\n",
       "      <td>ABE59463-05-7E</td>\n",
       "      <td>software</td>\n",
       "      <td>project management</td>\n",
       "      <td>13.52</td>\n",
       "      <td>7.86</td>\n",
       "      <td>1.68</td>\n",
       "      <td>39</td>\n",
       "      <td>6</td>\n",
       "    </tr>\n",
       "    <tr>\n",
       "      <th>3</th>\n",
       "      <td>Nathan</td>\n",
       "      <td>Baker</td>\n",
       "      <td>Accounting technician</td>\n",
       "      <td>827-788-8123x012</td>\n",
       "      <td>bakernathan@benson.com</td>\n",
       "      <td>46554</td>\n",
       "      <td>9031802</td>\n",
       "      <td>2023-04-25</td>\n",
       "      <td>17</td>\n",
       "      <td>2023</td>\n",
       "      <td>ZMM00836-65-0C</td>\n",
       "      <td>consumables</td>\n",
       "      <td>pens</td>\n",
       "      <td>36.42</td>\n",
       "      <td>24.85</td>\n",
       "      <td>1.23</td>\n",
       "      <td>29</td>\n",
       "      <td>3</td>\n",
       "    </tr>\n",
       "    <tr>\n",
       "      <th>4</th>\n",
       "      <td>Christina</td>\n",
       "      <td>Schwartz</td>\n",
       "      <td>Chiropractor</td>\n",
       "      <td>265-829-3643</td>\n",
       "      <td>christinaschwartz9252@mcconnell.com</td>\n",
       "      <td>92089</td>\n",
       "      <td>1322274</td>\n",
       "      <td>2023-05-28</td>\n",
       "      <td>21</td>\n",
       "      <td>2023</td>\n",
       "      <td>BZX55559-12-3X</td>\n",
       "      <td>consumables</td>\n",
       "      <td>misc</td>\n",
       "      <td>195.10</td>\n",
       "      <td>108.17</td>\n",
       "      <td>46.43</td>\n",
       "      <td>20</td>\n",
       "      <td>1</td>\n",
       "    </tr>\n",
       "  </tbody>\n",
       "</table>\n",
       "</div>"
      ],
      "text/plain": [
       "       first      last                    job               phone  \\\n",
       "0     Donald   Harding           Immunologist  793-904-7725x39308   \n",
       "1    Tiffany     Myers        Music therapist    201.442.4543x942   \n",
       "2    Shannon    Watson           Immunologist   687.737.9424x8503   \n",
       "3     Nathan     Baker  Accounting technician    827-788-8123x012   \n",
       "4  Christina  Schwartz           Chiropractor        265-829-3643   \n",
       "\n",
       "                                 email  client_id  order_id  order_date  \\\n",
       "0     harding.donald.7185@sullivan.com      58515   8953482  2023-04-28   \n",
       "1    myers.t.6537@ferguson-johnson.net      37609   8069089  2023-05-19   \n",
       "2                swatson8146@payne.net      57113   1902144  2023-01-29   \n",
       "3               bakernathan@benson.com      46554   9031802  2023-04-25   \n",
       "4  christinaschwartz9252@mcconnell.com      92089   1322274  2023-05-28   \n",
       "\n",
       "   order_week  order_year         item_id     category         subcategory  \\\n",
       "0          17        2023  EUD29711-63-6U        decor            wall art   \n",
       "1          20        2023  XDA18116-89-4A  consumables                pens   \n",
       "2           4        2023  ABE59463-05-7E     software  project management   \n",
       "3          17        2023  ZMM00836-65-0C  consumables                pens   \n",
       "4          21        2023  BZX55559-12-3X  consumables                misc   \n",
       "\n",
       "   unit_price  unit_cost  unit_weight  qty  line_number  \n",
       "0     1096.80     762.71         7.50  105            1  \n",
       "1       24.95      15.09         1.49   21            0  \n",
       "2       13.52       7.86         1.68   39            6  \n",
       "3       36.42      24.85         1.23   29            3  \n",
       "4      195.10     108.17        46.43   20            1  "
      ]
     },
     "execution_count": 1,
     "metadata": {},
     "output_type": "execute_result"
    }
   ],
   "source": [
    "import pandas as pd\n",
    "\n",
    "\n",
    "df = pd.read_csv('Resources/client_dataset.csv')\n",
    "df.head()"
   ]
  },
  {
   "cell_type": "code",
   "execution_count": 2,
   "id": "71b9bbd2",
   "metadata": {},
   "outputs": [
    {
     "name": "stdout",
     "output_type": "stream",
     "text": [
      "Index(['first', 'last', 'job', 'phone', 'email', 'client_id', 'order_id',\n",
      "       'order_date', 'order_week', 'order_year', 'item_id', 'category',\n",
      "       'subcategory', 'unit_price', 'unit_cost', 'unit_weight', 'qty',\n",
      "       'line_number'],\n",
      "      dtype='object')\n"
     ]
    }
   ],
   "source": [
    "# View the column names in the data\n",
    "print(df.columns)"
   ]
  },
  {
   "cell_type": "code",
   "execution_count": 3,
   "id": "bc0f4172",
   "metadata": {},
   "outputs": [
    {
     "data": {
      "text/html": [
       "<div>\n",
       "<style scoped>\n",
       "    .dataframe tbody tr th:only-of-type {\n",
       "        vertical-align: middle;\n",
       "    }\n",
       "\n",
       "    .dataframe tbody tr th {\n",
       "        vertical-align: top;\n",
       "    }\n",
       "\n",
       "    .dataframe thead th {\n",
       "        text-align: right;\n",
       "    }\n",
       "</style>\n",
       "<table border=\"1\" class=\"dataframe\">\n",
       "  <thead>\n",
       "    <tr style=\"text-align: right;\">\n",
       "      <th></th>\n",
       "      <th>client_id</th>\n",
       "      <th>order_id</th>\n",
       "      <th>order_week</th>\n",
       "      <th>order_year</th>\n",
       "      <th>unit_price</th>\n",
       "      <th>unit_cost</th>\n",
       "      <th>unit_weight</th>\n",
       "      <th>qty</th>\n",
       "      <th>line_number</th>\n",
       "    </tr>\n",
       "  </thead>\n",
       "  <tbody>\n",
       "    <tr>\n",
       "      <th>count</th>\n",
       "      <td>54639.000000</td>\n",
       "      <td>5.463900e+04</td>\n",
       "      <td>54639.000000</td>\n",
       "      <td>54639.000000</td>\n",
       "      <td>54639.000000</td>\n",
       "      <td>54639.000000</td>\n",
       "      <td>54639.000000</td>\n",
       "      <td>5.463900e+04</td>\n",
       "      <td>54639.000000</td>\n",
       "    </tr>\n",
       "    <tr>\n",
       "      <th>mean</th>\n",
       "      <td>54837.869416</td>\n",
       "      <td>5.470190e+06</td>\n",
       "      <td>11.359139</td>\n",
       "      <td>2022.993064</td>\n",
       "      <td>136.267207</td>\n",
       "      <td>99.446073</td>\n",
       "      <td>5.004116</td>\n",
       "      <td>5.702646e+02</td>\n",
       "      <td>2.979667</td>\n",
       "    </tr>\n",
       "    <tr>\n",
       "      <th>std</th>\n",
       "      <td>25487.438231</td>\n",
       "      <td>2.599807e+06</td>\n",
       "      <td>7.023499</td>\n",
       "      <td>0.082997</td>\n",
       "      <td>183.873135</td>\n",
       "      <td>133.164267</td>\n",
       "      <td>5.326599</td>\n",
       "      <td>1.879552e+04</td>\n",
       "      <td>2.436320</td>\n",
       "    </tr>\n",
       "    <tr>\n",
       "      <th>min</th>\n",
       "      <td>10033.000000</td>\n",
       "      <td>1.000886e+06</td>\n",
       "      <td>1.000000</td>\n",
       "      <td>2022.000000</td>\n",
       "      <td>0.010000</td>\n",
       "      <td>0.010000</td>\n",
       "      <td>0.000000</td>\n",
       "      <td>0.000000e+00</td>\n",
       "      <td>0.000000</td>\n",
       "    </tr>\n",
       "    <tr>\n",
       "      <th>25%</th>\n",
       "      <td>33593.000000</td>\n",
       "      <td>3.196372e+06</td>\n",
       "      <td>6.000000</td>\n",
       "      <td>2023.000000</td>\n",
       "      <td>20.800000</td>\n",
       "      <td>14.840000</td>\n",
       "      <td>1.450000</td>\n",
       "      <td>3.200000e+01</td>\n",
       "      <td>1.000000</td>\n",
       "    </tr>\n",
       "    <tr>\n",
       "      <th>50%</th>\n",
       "      <td>53305.000000</td>\n",
       "      <td>5.496966e+06</td>\n",
       "      <td>11.000000</td>\n",
       "      <td>2023.000000</td>\n",
       "      <td>68.310000</td>\n",
       "      <td>49.890000</td>\n",
       "      <td>3.240000</td>\n",
       "      <td>6.800000e+01</td>\n",
       "      <td>3.000000</td>\n",
       "    </tr>\n",
       "    <tr>\n",
       "      <th>75%</th>\n",
       "      <td>78498.000000</td>\n",
       "      <td>7.733869e+06</td>\n",
       "      <td>17.000000</td>\n",
       "      <td>2023.000000</td>\n",
       "      <td>173.160000</td>\n",
       "      <td>125.570000</td>\n",
       "      <td>6.890000</td>\n",
       "      <td>1.700000e+02</td>\n",
       "      <td>5.000000</td>\n",
       "    </tr>\n",
       "    <tr>\n",
       "      <th>max</th>\n",
       "      <td>99984.000000</td>\n",
       "      <td>9.998480e+06</td>\n",
       "      <td>52.000000</td>\n",
       "      <td>2023.000000</td>\n",
       "      <td>1396.230000</td>\n",
       "      <td>846.270000</td>\n",
       "      <td>46.430000</td>\n",
       "      <td>3.958244e+06</td>\n",
       "      <td>9.000000</td>\n",
       "    </tr>\n",
       "  </tbody>\n",
       "</table>\n",
       "</div>"
      ],
      "text/plain": [
       "          client_id      order_id    order_week    order_year    unit_price  \\\n",
       "count  54639.000000  5.463900e+04  54639.000000  54639.000000  54639.000000   \n",
       "mean   54837.869416  5.470190e+06     11.359139   2022.993064    136.267207   \n",
       "std    25487.438231  2.599807e+06      7.023499      0.082997    183.873135   \n",
       "min    10033.000000  1.000886e+06      1.000000   2022.000000      0.010000   \n",
       "25%    33593.000000  3.196372e+06      6.000000   2023.000000     20.800000   \n",
       "50%    53305.000000  5.496966e+06     11.000000   2023.000000     68.310000   \n",
       "75%    78498.000000  7.733869e+06     17.000000   2023.000000    173.160000   \n",
       "max    99984.000000  9.998480e+06     52.000000   2023.000000   1396.230000   \n",
       "\n",
       "          unit_cost   unit_weight           qty   line_number  \n",
       "count  54639.000000  54639.000000  5.463900e+04  54639.000000  \n",
       "mean      99.446073      5.004116  5.702646e+02      2.979667  \n",
       "std      133.164267      5.326599  1.879552e+04      2.436320  \n",
       "min        0.010000      0.000000  0.000000e+00      0.000000  \n",
       "25%       14.840000      1.450000  3.200000e+01      1.000000  \n",
       "50%       49.890000      3.240000  6.800000e+01      3.000000  \n",
       "75%      125.570000      6.890000  1.700000e+02      5.000000  \n",
       "max      846.270000     46.430000  3.958244e+06      9.000000  "
      ]
     },
     "execution_count": 3,
     "metadata": {},
     "output_type": "execute_result"
    }
   ],
   "source": [
    "# Use the describe function to gather some basic statistics\n",
    "df.describe()"
   ]
  },
  {
   "cell_type": "code",
   "execution_count": 7,
   "id": "b24b53cc",
   "metadata": {},
   "outputs": [
    {
     "name": "stdout",
     "output_type": "stream",
     "text": [
      "<class 'pandas.core.frame.DataFrame'>\n",
      "RangeIndex: 54639 entries, 0 to 54638\n",
      "Data columns (total 18 columns):\n",
      " #   Column       Non-Null Count  Dtype  \n",
      "---  ------       --------------  -----  \n",
      " 0   first        54639 non-null  object \n",
      " 1   last         54639 non-null  object \n",
      " 2   job          54639 non-null  object \n",
      " 3   phone        54639 non-null  object \n",
      " 4   email        54639 non-null  object \n",
      " 5   client_id    54639 non-null  int64  \n",
      " 6   order_id     54639 non-null  int64  \n",
      " 7   order_date   54639 non-null  object \n",
      " 8   order_week   54639 non-null  int64  \n",
      " 9   order_year   54639 non-null  int64  \n",
      " 10  item_id      54639 non-null  object \n",
      " 11  category     54639 non-null  object \n",
      " 12  subcategory  54639 non-null  object \n",
      " 13  unit_price   54639 non-null  float64\n",
      " 14  unit_cost    54639 non-null  float64\n",
      " 15  unit_weight  54639 non-null  float64\n",
      " 16  qty          54639 non-null  int64  \n",
      " 17  line_number  54639 non-null  int64  \n",
      "dtypes: float64(3), int64(6), object(9)\n",
      "memory usage: 7.5+ MB\n"
     ]
    },
    {
     "data": {
      "text/plain": [
       "(54639, 18)"
      ]
     },
     "execution_count": 7,
     "metadata": {},
     "output_type": "execute_result"
    }
   ],
   "source": [
    "# Use this space to do any additional research\n",
    "# and familiarize yourself with the data.\n",
    "df.head() \n",
    "\n",
    "\n",
    "df.tail() \n",
    "\n",
    "\n",
    "df.info()\n",
    "\n",
    "\n",
    "df.shape\n",
    "\n",
    "df['column_name'].value_counts()\n"
   ]
  },
  {
   "cell_type": "code",
   "execution_count": 10,
   "id": "551cb358",
   "metadata": {},
   "outputs": [
    {
     "data": {
      "text/plain": [
       "category\n",
       "consumables    23538\n",
       "furniture      11915\n",
       "software        8400\n",
       "Name: count, dtype: int64"
      ]
     },
     "execution_count": 10,
     "metadata": {},
     "output_type": "execute_result"
    }
   ],
   "source": [
    "# What three item categories had the most entries?\n",
    "top_categories = df['category'].value_counts().head(3)\n",
    "\n",
    "top_categories"
   ]
  },
  {
   "cell_type": "code",
   "execution_count": 17,
   "id": "5f54e2cf",
   "metadata": {},
   "outputs": [
    {
     "data": {
      "text/plain": [
       "subcategory\n",
       "bathroom supplies    6424\n",
       "paper products       5874\n",
       "kitchen supplies     5746\n",
       "misc                 2891\n",
       "pens                 2603\n",
       "Name: count, dtype: int64"
      ]
     },
     "execution_count": 17,
     "metadata": {},
     "output_type": "execute_result"
    }
   ],
   "source": [
    "# For the category with the most entries, which subcategory had the most entries?\n",
    "category_with_most_entries = df['category'].value_counts().idxmax()\n",
    "subcategory_with_most_entries = df[df['category'] == category_with_most_entries]['subcategory'].value_counts()\n",
    "subcategory_with_most_entries"
   ]
  },
  {
   "cell_type": "code",
   "execution_count": 24,
   "id": "2db94379",
   "metadata": {},
   "outputs": [
    {
     "data": {
      "text/plain": [
       "client_id\n",
       "33615    220\n",
       "66037    211\n",
       "46820    209\n",
       "38378    207\n",
       "24741    207\n",
       "Name: count, dtype: int64"
      ]
     },
     "execution_count": 24,
     "metadata": {},
     "output_type": "execute_result"
    }
   ],
   "source": [
    "# Which five clients had the most entries in the data?\n",
    "top_clients = df['client_id'].value_counts().head(5)#.index.tolist()\n",
    "\n",
    "top_clients"
   ]
  },
  {
   "cell_type": "code",
   "execution_count": 26,
   "id": "a6635601",
   "metadata": {},
   "outputs": [
    {
     "data": {
      "text/plain": [
       "[33615, 66037, 46820, 38378, 24741]"
      ]
     },
     "execution_count": 26,
     "metadata": {},
     "output_type": "execute_result"
    }
   ],
   "source": [
    "# Store the client ids of those top 5 clients in a list.\n",
    "top_clients = df['client_id'].value_counts().head(5).index.tolist()\n",
    "\n",
    "top_clients"
   ]
  },
  {
   "cell_type": "code",
   "execution_count": 29,
   "id": "c88b8a3e",
   "metadata": {},
   "outputs": [
    {
     "data": {
      "text/plain": [
       "64313"
      ]
     },
     "execution_count": 29,
     "metadata": {},
     "output_type": "execute_result"
    }
   ],
   "source": [
    "# How many total units (the qty column) did the client with the most entries order order?\n",
    "# First, identify the client with the most entries\n",
    "top_client = df['client_id'].value_counts().idxmax()\n",
    "\n",
    "# Then, calculate the total units ordered by the top client\n",
    "total_units_top_client = df[df['client_id'] == top_client]['qty'].sum()\n",
    "\n",
    "total_units_top_client \n"
   ]
  },
  {
   "cell_type": "markdown",
   "id": "257fcd7d",
   "metadata": {},
   "source": [
    "## Part 2: Transform the Data\n",
    "Do we know that this client spent the more money than client 66037? If not, how would we find out? Transform the data using the steps below to prepare it for analysis."
   ]
  },
  {
   "cell_type": "code",
   "execution_count": 46,
   "id": "0c25c4a8",
   "metadata": {},
   "outputs": [
    {
     "ename": "KeyError",
     "evalue": "'unit_price'",
     "output_type": "error",
     "traceback": [
      "\u001b[1;31m---------------------------------------------------------------------------\u001b[0m",
      "\u001b[1;31mKeyError\u001b[0m                                  Traceback (most recent call last)",
      "Cell \u001b[1;32mIn[46], line 2\u001b[0m\n\u001b[0;32m      1\u001b[0m \u001b[38;5;66;03m# Create a column that calculates the subtotal for each line using the unit_price and the qty\u001b[39;00m\n\u001b[1;32m----> 2\u001b[0m df[\u001b[38;5;124m'\u001b[39m\u001b[38;5;124msubtotal\u001b[39m\u001b[38;5;124m'\u001b[39m] \u001b[38;5;241m=\u001b[39m \u001b[43mdf\u001b[49m\u001b[43m[\u001b[49m\u001b[38;5;124;43m'\u001b[39;49m\u001b[38;5;124;43munit_price\u001b[39;49m\u001b[38;5;124;43m'\u001b[39;49m\u001b[43m]\u001b[49m \u001b[38;5;241m*\u001b[39m df[\u001b[38;5;124m'\u001b[39m\u001b[38;5;124mqty\u001b[39m\u001b[38;5;124m'\u001b[39m]\u001b[38;5;241m.\u001b[39mdropna()\n\u001b[0;32m      4\u001b[0m \u001b[38;5;28mprint\u001b[39m(df)\n",
      "File \u001b[1;32mc:\\Users\\enock\\anaconda3\\envs\\dev\\lib\\site-packages\\pandas\\core\\series.py:1040\u001b[0m, in \u001b[0;36mSeries.__getitem__\u001b[1;34m(self, key)\u001b[0m\n\u001b[0;32m   1037\u001b[0m     \u001b[38;5;28;01mreturn\u001b[39;00m \u001b[38;5;28mself\u001b[39m\u001b[38;5;241m.\u001b[39m_values[key]\n\u001b[0;32m   1039\u001b[0m \u001b[38;5;28;01melif\u001b[39;00m key_is_scalar:\n\u001b[1;32m-> 1040\u001b[0m     \u001b[38;5;28;01mreturn\u001b[39;00m \u001b[38;5;28;43mself\u001b[39;49m\u001b[38;5;241;43m.\u001b[39;49m\u001b[43m_get_value\u001b[49m\u001b[43m(\u001b[49m\u001b[43mkey\u001b[49m\u001b[43m)\u001b[49m\n\u001b[0;32m   1042\u001b[0m \u001b[38;5;66;03m# Convert generator to list before going through hashable part\u001b[39;00m\n\u001b[0;32m   1043\u001b[0m \u001b[38;5;66;03m# (We will iterate through the generator there to check for slices)\u001b[39;00m\n\u001b[0;32m   1044\u001b[0m \u001b[38;5;28;01mif\u001b[39;00m is_iterator(key):\n",
      "File \u001b[1;32mc:\\Users\\enock\\anaconda3\\envs\\dev\\lib\\site-packages\\pandas\\core\\series.py:1156\u001b[0m, in \u001b[0;36mSeries._get_value\u001b[1;34m(self, label, takeable)\u001b[0m\n\u001b[0;32m   1153\u001b[0m     \u001b[38;5;28;01mreturn\u001b[39;00m \u001b[38;5;28mself\u001b[39m\u001b[38;5;241m.\u001b[39m_values[label]\n\u001b[0;32m   1155\u001b[0m \u001b[38;5;66;03m# Similar to Index.get_value, but we do not fall back to positional\u001b[39;00m\n\u001b[1;32m-> 1156\u001b[0m loc \u001b[38;5;241m=\u001b[39m \u001b[38;5;28;43mself\u001b[39;49m\u001b[38;5;241;43m.\u001b[39;49m\u001b[43mindex\u001b[49m\u001b[38;5;241;43m.\u001b[39;49m\u001b[43mget_loc\u001b[49m\u001b[43m(\u001b[49m\u001b[43mlabel\u001b[49m\u001b[43m)\u001b[49m\n\u001b[0;32m   1158\u001b[0m \u001b[38;5;28;01mif\u001b[39;00m is_integer(loc):\n\u001b[0;32m   1159\u001b[0m     \u001b[38;5;28;01mreturn\u001b[39;00m \u001b[38;5;28mself\u001b[39m\u001b[38;5;241m.\u001b[39m_values[loc]\n",
      "File \u001b[1;32mc:\\Users\\enock\\anaconda3\\envs\\dev\\lib\\site-packages\\pandas\\core\\indexes\\range.py:418\u001b[0m, in \u001b[0;36mRangeIndex.get_loc\u001b[1;34m(self, key)\u001b[0m\n\u001b[0;32m    416\u001b[0m         \u001b[38;5;28;01mraise\u001b[39;00m \u001b[38;5;167;01mKeyError\u001b[39;00m(key) \u001b[38;5;28;01mfrom\u001b[39;00m \u001b[38;5;21;01merr\u001b[39;00m\n\u001b[0;32m    417\u001b[0m \u001b[38;5;28;01mif\u001b[39;00m \u001b[38;5;28misinstance\u001b[39m(key, Hashable):\n\u001b[1;32m--> 418\u001b[0m     \u001b[38;5;28;01mraise\u001b[39;00m \u001b[38;5;167;01mKeyError\u001b[39;00m(key)\n\u001b[0;32m    419\u001b[0m \u001b[38;5;28mself\u001b[39m\u001b[38;5;241m.\u001b[39m_check_indexing_error(key)\n\u001b[0;32m    420\u001b[0m \u001b[38;5;28;01mraise\u001b[39;00m \u001b[38;5;167;01mKeyError\u001b[39;00m(key)\n",
      "\u001b[1;31mKeyError\u001b[0m: 'unit_price'"
     ]
    }
   ],
   "source": [
    "# Create a column that calculates the subtotal for each line using the unit_price and the qty\n",
    "df['subtotal'] = df['unit_price'] * df['qty'].dropna()\n",
    "\n",
    "print(df)"
   ]
  },
  {
   "cell_type": "code",
   "execution_count": 39,
   "id": "ac9dafc8",
   "metadata": {},
   "outputs": [
    {
     "data": {
      "text/plain": [
       "0        115164.00\n",
       "1           523.95\n",
       "2           527.28\n",
       "3          1056.18\n",
       "4          3902.00\n",
       "           ...    \n",
       "54634      2743.29\n",
       "54635      9709.73\n",
       "54636     31188.50\n",
       "54637       165.76\n",
       "54638      3103.31\n",
       "Length: 54639, dtype: float64"
      ]
     },
     "execution_count": 39,
     "metadata": {},
     "output_type": "execute_result"
    }
   ],
   "source": [
    "# Create a column for shipping price.\n",
    "# Assume a shipping price of $7 per pound for orders over 50 pounds and $10 per pound for items 50 pounds or under.\n",
    " #Define a function to calculate shipping price based on weight\n",
    "def calculate_shipping_price(row):\n",
    "    if row['weight'] > 50:\n",
    "        return row['weight'] * 7\n",
    "    else:\n",
    "        return row['weight'] * 10\n",
    "    \n",
    "    df['shipping_price'] = df.apply(calculate_shipping_price, axis=1)\n",
    "\n",
    "df"
   ]
  },
  {
   "cell_type": "code",
   "execution_count": 41,
   "id": "77f42c67",
   "metadata": {},
   "outputs": [
    {
     "ename": "KeyError",
     "evalue": "'subtotal'",
     "output_type": "error",
     "traceback": [
      "\u001b[1;31m---------------------------------------------------------------------------\u001b[0m",
      "\u001b[1;31mKeyError\u001b[0m                                  Traceback (most recent call last)",
      "Cell \u001b[1;32mIn[41], line 3\u001b[0m\n\u001b[0;32m      1\u001b[0m \u001b[38;5;66;03m# Create a column for the total price using the subtotal and the shipping price along with a sales tax of 9.25%\u001b[39;00m\n\u001b[0;32m      2\u001b[0m sales_tax_rate \u001b[38;5;241m=\u001b[39m \u001b[38;5;241m0.0925\u001b[39m  \u001b[38;5;66;03m# 9.25% sales tax rate\u001b[39;00m\n\u001b[1;32m----> 3\u001b[0m df[\u001b[38;5;124m'\u001b[39m\u001b[38;5;124mtotal_price\u001b[39m\u001b[38;5;124m'\u001b[39m] \u001b[38;5;241m=\u001b[39m \u001b[43mdf\u001b[49m\u001b[43m[\u001b[49m\u001b[38;5;124;43m'\u001b[39;49m\u001b[38;5;124;43msubtotal\u001b[39;49m\u001b[38;5;124;43m'\u001b[39;49m\u001b[43m]\u001b[49m \u001b[38;5;241m+\u001b[39m df[\u001b[38;5;124m'\u001b[39m\u001b[38;5;124mshipping_price\u001b[39m\u001b[38;5;124m'\u001b[39m] \u001b[38;5;241m+\u001b[39m (df[\u001b[38;5;124m'\u001b[39m\u001b[38;5;124msubtotal\u001b[39m\u001b[38;5;124m'\u001b[39m] \u001b[38;5;241m+\u001b[39m df[\u001b[38;5;124m'\u001b[39m\u001b[38;5;124mshipping_price\u001b[39m\u001b[38;5;124m'\u001b[39m]) \u001b[38;5;241m*\u001b[39m sales_tax_rate\n",
      "File \u001b[1;32mc:\\Users\\enock\\anaconda3\\envs\\dev\\lib\\site-packages\\pandas\\core\\series.py:1040\u001b[0m, in \u001b[0;36mSeries.__getitem__\u001b[1;34m(self, key)\u001b[0m\n\u001b[0;32m   1037\u001b[0m     \u001b[38;5;28;01mreturn\u001b[39;00m \u001b[38;5;28mself\u001b[39m\u001b[38;5;241m.\u001b[39m_values[key]\n\u001b[0;32m   1039\u001b[0m \u001b[38;5;28;01melif\u001b[39;00m key_is_scalar:\n\u001b[1;32m-> 1040\u001b[0m     \u001b[38;5;28;01mreturn\u001b[39;00m \u001b[38;5;28;43mself\u001b[39;49m\u001b[38;5;241;43m.\u001b[39;49m\u001b[43m_get_value\u001b[49m\u001b[43m(\u001b[49m\u001b[43mkey\u001b[49m\u001b[43m)\u001b[49m\n\u001b[0;32m   1042\u001b[0m \u001b[38;5;66;03m# Convert generator to list before going through hashable part\u001b[39;00m\n\u001b[0;32m   1043\u001b[0m \u001b[38;5;66;03m# (We will iterate through the generator there to check for slices)\u001b[39;00m\n\u001b[0;32m   1044\u001b[0m \u001b[38;5;28;01mif\u001b[39;00m is_iterator(key):\n",
      "File \u001b[1;32mc:\\Users\\enock\\anaconda3\\envs\\dev\\lib\\site-packages\\pandas\\core\\series.py:1156\u001b[0m, in \u001b[0;36mSeries._get_value\u001b[1;34m(self, label, takeable)\u001b[0m\n\u001b[0;32m   1153\u001b[0m     \u001b[38;5;28;01mreturn\u001b[39;00m \u001b[38;5;28mself\u001b[39m\u001b[38;5;241m.\u001b[39m_values[label]\n\u001b[0;32m   1155\u001b[0m \u001b[38;5;66;03m# Similar to Index.get_value, but we do not fall back to positional\u001b[39;00m\n\u001b[1;32m-> 1156\u001b[0m loc \u001b[38;5;241m=\u001b[39m \u001b[38;5;28;43mself\u001b[39;49m\u001b[38;5;241;43m.\u001b[39;49m\u001b[43mindex\u001b[49m\u001b[38;5;241;43m.\u001b[39;49m\u001b[43mget_loc\u001b[49m\u001b[43m(\u001b[49m\u001b[43mlabel\u001b[49m\u001b[43m)\u001b[49m\n\u001b[0;32m   1158\u001b[0m \u001b[38;5;28;01mif\u001b[39;00m is_integer(loc):\n\u001b[0;32m   1159\u001b[0m     \u001b[38;5;28;01mreturn\u001b[39;00m \u001b[38;5;28mself\u001b[39m\u001b[38;5;241m.\u001b[39m_values[loc]\n",
      "File \u001b[1;32mc:\\Users\\enock\\anaconda3\\envs\\dev\\lib\\site-packages\\pandas\\core\\indexes\\range.py:418\u001b[0m, in \u001b[0;36mRangeIndex.get_loc\u001b[1;34m(self, key)\u001b[0m\n\u001b[0;32m    416\u001b[0m         \u001b[38;5;28;01mraise\u001b[39;00m \u001b[38;5;167;01mKeyError\u001b[39;00m(key) \u001b[38;5;28;01mfrom\u001b[39;00m \u001b[38;5;21;01merr\u001b[39;00m\n\u001b[0;32m    417\u001b[0m \u001b[38;5;28;01mif\u001b[39;00m \u001b[38;5;28misinstance\u001b[39m(key, Hashable):\n\u001b[1;32m--> 418\u001b[0m     \u001b[38;5;28;01mraise\u001b[39;00m \u001b[38;5;167;01mKeyError\u001b[39;00m(key)\n\u001b[0;32m    419\u001b[0m \u001b[38;5;28mself\u001b[39m\u001b[38;5;241m.\u001b[39m_check_indexing_error(key)\n\u001b[0;32m    420\u001b[0m \u001b[38;5;28;01mraise\u001b[39;00m \u001b[38;5;167;01mKeyError\u001b[39;00m(key)\n",
      "\u001b[1;31mKeyError\u001b[0m: 'subtotal'"
     ]
    }
   ],
   "source": [
    "# Create a column for the total price using the subtotal and the shipping price along with a sales tax of 9.25%\n",
    "sales_tax_rate = 0.0925  # 9.25% sales tax rate\n",
    "df['total_price'] = df['subtotal'] + df['shipping_price'] + (df['subtotal'] + df['shipping_price']) * sales_tax_rate\n"
   ]
  },
  {
   "cell_type": "code",
   "execution_count": 47,
   "id": "c82ad275",
   "metadata": {},
   "outputs": [
    {
     "ename": "KeyError",
     "evalue": "'unit_cost'",
     "output_type": "error",
     "traceback": [
      "\u001b[1;31m---------------------------------------------------------------------------\u001b[0m",
      "\u001b[1;31mKeyError\u001b[0m                                  Traceback (most recent call last)",
      "Cell \u001b[1;32mIn[47], line 4\u001b[0m\n\u001b[0;32m      1\u001b[0m \u001b[38;5;66;03m# Create a column for the cost of each line using unit cost, qty, and\u001b[39;00m\n\u001b[0;32m      2\u001b[0m \u001b[38;5;66;03m# shipping price (assume the shipping cost is exactly what is charged to the client).\u001b[39;00m\n\u001b[0;32m      3\u001b[0m \u001b[38;5;66;03m#Step 1: Calculate the subtotal for each line\u001b[39;00m\n\u001b[1;32m----> 4\u001b[0m df[\u001b[38;5;124m'\u001b[39m\u001b[38;5;124msubtotal\u001b[39m\u001b[38;5;124m'\u001b[39m] \u001b[38;5;241m=\u001b[39m \u001b[43mdf\u001b[49m\u001b[43m[\u001b[49m\u001b[38;5;124;43m'\u001b[39;49m\u001b[38;5;124;43munit_cost\u001b[39;49m\u001b[38;5;124;43m'\u001b[39;49m\u001b[43m]\u001b[49m \u001b[38;5;241m*\u001b[39m df[\u001b[38;5;124m'\u001b[39m\u001b[38;5;124mqty\u001b[39m\u001b[38;5;124m'\u001b[39m]\n\u001b[0;32m      6\u001b[0m \u001b[38;5;66;03m# Step 2: Calculate the total shipping cost for each line\u001b[39;00m\n\u001b[0;32m      7\u001b[0m \u001b[38;5;66;03m# Assuming shipping cost is exactly what is charged to the client\u001b[39;00m\n\u001b[0;32m      8\u001b[0m df[\u001b[38;5;124m'\u001b[39m\u001b[38;5;124mshipping_cost\u001b[39m\u001b[38;5;124m'\u001b[39m] \u001b[38;5;241m=\u001b[39m df[\u001b[38;5;124m'\u001b[39m\u001b[38;5;124mshipping_price\u001b[39m\u001b[38;5;124m'\u001b[39m] \u001b[38;5;241m*\u001b[39m df[\u001b[38;5;124m'\u001b[39m\u001b[38;5;124mqty\u001b[39m\u001b[38;5;124m'\u001b[39m]\n",
      "File \u001b[1;32mc:\\Users\\enock\\anaconda3\\envs\\dev\\lib\\site-packages\\pandas\\core\\series.py:1040\u001b[0m, in \u001b[0;36mSeries.__getitem__\u001b[1;34m(self, key)\u001b[0m\n\u001b[0;32m   1037\u001b[0m     \u001b[38;5;28;01mreturn\u001b[39;00m \u001b[38;5;28mself\u001b[39m\u001b[38;5;241m.\u001b[39m_values[key]\n\u001b[0;32m   1039\u001b[0m \u001b[38;5;28;01melif\u001b[39;00m key_is_scalar:\n\u001b[1;32m-> 1040\u001b[0m     \u001b[38;5;28;01mreturn\u001b[39;00m \u001b[38;5;28;43mself\u001b[39;49m\u001b[38;5;241;43m.\u001b[39;49m\u001b[43m_get_value\u001b[49m\u001b[43m(\u001b[49m\u001b[43mkey\u001b[49m\u001b[43m)\u001b[49m\n\u001b[0;32m   1042\u001b[0m \u001b[38;5;66;03m# Convert generator to list before going through hashable part\u001b[39;00m\n\u001b[0;32m   1043\u001b[0m \u001b[38;5;66;03m# (We will iterate through the generator there to check for slices)\u001b[39;00m\n\u001b[0;32m   1044\u001b[0m \u001b[38;5;28;01mif\u001b[39;00m is_iterator(key):\n",
      "File \u001b[1;32mc:\\Users\\enock\\anaconda3\\envs\\dev\\lib\\site-packages\\pandas\\core\\series.py:1156\u001b[0m, in \u001b[0;36mSeries._get_value\u001b[1;34m(self, label, takeable)\u001b[0m\n\u001b[0;32m   1153\u001b[0m     \u001b[38;5;28;01mreturn\u001b[39;00m \u001b[38;5;28mself\u001b[39m\u001b[38;5;241m.\u001b[39m_values[label]\n\u001b[0;32m   1155\u001b[0m \u001b[38;5;66;03m# Similar to Index.get_value, but we do not fall back to positional\u001b[39;00m\n\u001b[1;32m-> 1156\u001b[0m loc \u001b[38;5;241m=\u001b[39m \u001b[38;5;28;43mself\u001b[39;49m\u001b[38;5;241;43m.\u001b[39;49m\u001b[43mindex\u001b[49m\u001b[38;5;241;43m.\u001b[39;49m\u001b[43mget_loc\u001b[49m\u001b[43m(\u001b[49m\u001b[43mlabel\u001b[49m\u001b[43m)\u001b[49m\n\u001b[0;32m   1158\u001b[0m \u001b[38;5;28;01mif\u001b[39;00m is_integer(loc):\n\u001b[0;32m   1159\u001b[0m     \u001b[38;5;28;01mreturn\u001b[39;00m \u001b[38;5;28mself\u001b[39m\u001b[38;5;241m.\u001b[39m_values[loc]\n",
      "File \u001b[1;32mc:\\Users\\enock\\anaconda3\\envs\\dev\\lib\\site-packages\\pandas\\core\\indexes\\range.py:418\u001b[0m, in \u001b[0;36mRangeIndex.get_loc\u001b[1;34m(self, key)\u001b[0m\n\u001b[0;32m    416\u001b[0m         \u001b[38;5;28;01mraise\u001b[39;00m \u001b[38;5;167;01mKeyError\u001b[39;00m(key) \u001b[38;5;28;01mfrom\u001b[39;00m \u001b[38;5;21;01merr\u001b[39;00m\n\u001b[0;32m    417\u001b[0m \u001b[38;5;28;01mif\u001b[39;00m \u001b[38;5;28misinstance\u001b[39m(key, Hashable):\n\u001b[1;32m--> 418\u001b[0m     \u001b[38;5;28;01mraise\u001b[39;00m \u001b[38;5;167;01mKeyError\u001b[39;00m(key)\n\u001b[0;32m    419\u001b[0m \u001b[38;5;28mself\u001b[39m\u001b[38;5;241m.\u001b[39m_check_indexing_error(key)\n\u001b[0;32m    420\u001b[0m \u001b[38;5;28;01mraise\u001b[39;00m \u001b[38;5;167;01mKeyError\u001b[39;00m(key)\n",
      "\u001b[1;31mKeyError\u001b[0m: 'unit_cost'"
     ]
    }
   ],
   "source": [
    "# Create a column for the cost of each line using unit cost, qty, and\n",
    "# shipping price (assume the shipping cost is exactly what is charged to the client).\n",
    "#Step 1: Calculate the subtotal for each line\n",
    "df['subtotal'] = df['unit_cost'] * df['qty']\n",
    "\n",
    "# Step 2: Calculate the total shipping cost for each line\n",
    "# Assuming shipping cost is exactly what is charged to the client\n",
    "df['shipping_cost'] = df['shipping_price'] * df['qty']\n",
    "\n",
    "# Step 3: Calculate the total cost for each line\n",
    "df['total_cost'] = df['subtotal'] + df['shipping_cost']\n",
    "\n",
    "# Display the DataFrame with the new 'total_cost' column\n",
    "print(df)\n"
   ]
  },
  {
   "cell_type": "code",
   "execution_count": 48,
   "id": "e2389018",
   "metadata": {},
   "outputs": [
    {
     "ename": "KeyError",
     "evalue": "'unit_cost'",
     "output_type": "error",
     "traceback": [
      "\u001b[1;31m---------------------------------------------------------------------------\u001b[0m",
      "\u001b[1;31mKeyError\u001b[0m                                  Traceback (most recent call last)",
      "Cell \u001b[1;32mIn[48], line 6\u001b[0m\n\u001b[0;32m      1\u001b[0m \u001b[38;5;66;03m# Create a column for the profit of each line using line cost and line price\u001b[39;00m\n\u001b[0;32m      2\u001b[0m \n\u001b[0;32m      3\u001b[0m \u001b[38;5;66;03m# Assuming you have a DataFrame 'df' with columns 'unit_cost', 'unit_price', 'qty', and 'shipping_price'\u001b[39;00m\n\u001b[0;32m      4\u001b[0m \n\u001b[0;32m      5\u001b[0m \u001b[38;5;66;03m# Step 1: Calculate the line cost for each line\u001b[39;00m\n\u001b[1;32m----> 6\u001b[0m df[\u001b[38;5;124m'\u001b[39m\u001b[38;5;124mline_cost\u001b[39m\u001b[38;5;124m'\u001b[39m] \u001b[38;5;241m=\u001b[39m \u001b[43mdf\u001b[49m\u001b[43m[\u001b[49m\u001b[38;5;124;43m'\u001b[39;49m\u001b[38;5;124;43munit_cost\u001b[39;49m\u001b[38;5;124;43m'\u001b[39;49m\u001b[43m]\u001b[49m \u001b[38;5;241m*\u001b[39m df[\u001b[38;5;124m'\u001b[39m\u001b[38;5;124mqty\u001b[39m\u001b[38;5;124m'\u001b[39m] \u001b[38;5;241m+\u001b[39m df[\u001b[38;5;124m'\u001b[39m\u001b[38;5;124mshipping_price\u001b[39m\u001b[38;5;124m'\u001b[39m] \u001b[38;5;241m*\u001b[39m df[\u001b[38;5;124m'\u001b[39m\u001b[38;5;124mqty\u001b[39m\u001b[38;5;124m'\u001b[39m]\n\u001b[0;32m      8\u001b[0m \u001b[38;5;66;03m# Step 2: Calculate the line price for each line\u001b[39;00m\n\u001b[0;32m      9\u001b[0m df[\u001b[38;5;124m'\u001b[39m\u001b[38;5;124mline_price\u001b[39m\u001b[38;5;124m'\u001b[39m] \u001b[38;5;241m=\u001b[39m df[\u001b[38;5;124m'\u001b[39m\u001b[38;5;124munit_price\u001b[39m\u001b[38;5;124m'\u001b[39m] \u001b[38;5;241m*\u001b[39m df[\u001b[38;5;124m'\u001b[39m\u001b[38;5;124mqty\u001b[39m\u001b[38;5;124m'\u001b[39m] \u001b[38;5;241m+\u001b[39m df[\u001b[38;5;124m'\u001b[39m\u001b[38;5;124mshipping_price\u001b[39m\u001b[38;5;124m'\u001b[39m] \u001b[38;5;241m*\u001b[39m df[\u001b[38;5;124m'\u001b[39m\u001b[38;5;124mqty\u001b[39m\u001b[38;5;124m'\u001b[39m]\n",
      "File \u001b[1;32mc:\\Users\\enock\\anaconda3\\envs\\dev\\lib\\site-packages\\pandas\\core\\series.py:1040\u001b[0m, in \u001b[0;36mSeries.__getitem__\u001b[1;34m(self, key)\u001b[0m\n\u001b[0;32m   1037\u001b[0m     \u001b[38;5;28;01mreturn\u001b[39;00m \u001b[38;5;28mself\u001b[39m\u001b[38;5;241m.\u001b[39m_values[key]\n\u001b[0;32m   1039\u001b[0m \u001b[38;5;28;01melif\u001b[39;00m key_is_scalar:\n\u001b[1;32m-> 1040\u001b[0m     \u001b[38;5;28;01mreturn\u001b[39;00m \u001b[38;5;28;43mself\u001b[39;49m\u001b[38;5;241;43m.\u001b[39;49m\u001b[43m_get_value\u001b[49m\u001b[43m(\u001b[49m\u001b[43mkey\u001b[49m\u001b[43m)\u001b[49m\n\u001b[0;32m   1042\u001b[0m \u001b[38;5;66;03m# Convert generator to list before going through hashable part\u001b[39;00m\n\u001b[0;32m   1043\u001b[0m \u001b[38;5;66;03m# (We will iterate through the generator there to check for slices)\u001b[39;00m\n\u001b[0;32m   1044\u001b[0m \u001b[38;5;28;01mif\u001b[39;00m is_iterator(key):\n",
      "File \u001b[1;32mc:\\Users\\enock\\anaconda3\\envs\\dev\\lib\\site-packages\\pandas\\core\\series.py:1156\u001b[0m, in \u001b[0;36mSeries._get_value\u001b[1;34m(self, label, takeable)\u001b[0m\n\u001b[0;32m   1153\u001b[0m     \u001b[38;5;28;01mreturn\u001b[39;00m \u001b[38;5;28mself\u001b[39m\u001b[38;5;241m.\u001b[39m_values[label]\n\u001b[0;32m   1155\u001b[0m \u001b[38;5;66;03m# Similar to Index.get_value, but we do not fall back to positional\u001b[39;00m\n\u001b[1;32m-> 1156\u001b[0m loc \u001b[38;5;241m=\u001b[39m \u001b[38;5;28;43mself\u001b[39;49m\u001b[38;5;241;43m.\u001b[39;49m\u001b[43mindex\u001b[49m\u001b[38;5;241;43m.\u001b[39;49m\u001b[43mget_loc\u001b[49m\u001b[43m(\u001b[49m\u001b[43mlabel\u001b[49m\u001b[43m)\u001b[49m\n\u001b[0;32m   1158\u001b[0m \u001b[38;5;28;01mif\u001b[39;00m is_integer(loc):\n\u001b[0;32m   1159\u001b[0m     \u001b[38;5;28;01mreturn\u001b[39;00m \u001b[38;5;28mself\u001b[39m\u001b[38;5;241m.\u001b[39m_values[loc]\n",
      "File \u001b[1;32mc:\\Users\\enock\\anaconda3\\envs\\dev\\lib\\site-packages\\pandas\\core\\indexes\\range.py:418\u001b[0m, in \u001b[0;36mRangeIndex.get_loc\u001b[1;34m(self, key)\u001b[0m\n\u001b[0;32m    416\u001b[0m         \u001b[38;5;28;01mraise\u001b[39;00m \u001b[38;5;167;01mKeyError\u001b[39;00m(key) \u001b[38;5;28;01mfrom\u001b[39;00m \u001b[38;5;21;01merr\u001b[39;00m\n\u001b[0;32m    417\u001b[0m \u001b[38;5;28;01mif\u001b[39;00m \u001b[38;5;28misinstance\u001b[39m(key, Hashable):\n\u001b[1;32m--> 418\u001b[0m     \u001b[38;5;28;01mraise\u001b[39;00m \u001b[38;5;167;01mKeyError\u001b[39;00m(key)\n\u001b[0;32m    419\u001b[0m \u001b[38;5;28mself\u001b[39m\u001b[38;5;241m.\u001b[39m_check_indexing_error(key)\n\u001b[0;32m    420\u001b[0m \u001b[38;5;28;01mraise\u001b[39;00m \u001b[38;5;167;01mKeyError\u001b[39;00m(key)\n",
      "\u001b[1;31mKeyError\u001b[0m: 'unit_cost'"
     ]
    }
   ],
   "source": [
    "# Create a column for the profit of each line using line cost and line price\n",
    "\n",
    "# Assuming you have a DataFrame 'df' with columns 'unit_cost', 'unit_price', 'qty', and 'shipping_price'\n",
    "\n",
    "# Step 1: Calculate the line cost for each line\n",
    "df['line_cost'] = df['unit_cost'] * df['qty'] + df['shipping_price'] * df['qty']\n",
    "\n",
    "# Step 2: Calculate the line price for each line\n",
    "df['line_price'] = df['unit_price'] * df['qty'] + df['shipping_price'] * df['qty']\n",
    "\n",
    "# Step 3: Calculate the profit for each line\n",
    "df['profit'] = df['line_price'] - df['line_cost']\n",
    "\n",
    "# Display the DataFrame with the new 'profit' column\n",
    "print(df)"
   ]
  },
  {
   "cell_type": "markdown",
   "id": "ef6f62b1",
   "metadata": {},
   "source": [
    "## Part 3: Confirm your work\n",
    "You have email receipts showing that the total prices for 3 orders. Confirm that your calculations match the receipts. Remember, each order has multiple lines.\n",
    "\n",
    "Order ID 2742071 had a total price of \\$152,811.89\n",
    "\n",
    "Order ID 2173913 had a total price of \\$162,388.71\n",
    "\n",
    "Order ID 6128929 had a total price of \\$923,441.25\n"
   ]
  },
  {
   "cell_type": "code",
   "execution_count": 4,
   "id": "c0e5d68e",
   "metadata": {},
   "outputs": [
    {
     "name": "stdout",
     "output_type": "stream",
     "text": [
      "Order ID 2742071 total price matches the provided total.\n",
      "Order ID 2173913 total price matches the provided total.\n",
      "Order ID 6128929 total price matches the provided total.\n"
     ]
    }
   ],
   "source": [
    "# Check your work using the totals above\n",
    "\n",
    "# Define the total prices for each order\n",
    "order_totals = {\n",
    "    '2742071': 0.0,\n",
    "    '2173913': 0.0,\n",
    "    '6128929': 0.0\n",
    "}\n",
    "\n",
    "# Calculate the total price for each order based on the individual lines\n",
    "# You would need to replace the placeholder values with the actual calculated totals for each order\n",
    "# For example, if the calculated total for order 2742071 is 152811.89, you would replace 0.0 with 152811.89\n",
    "\n",
    "# Calculate the total price for Order ID 2742071\n",
    "order_totals['2742071'] = 152811.89  # Replace 0.0 with the actual calculated total for Order ID 2742071\n",
    "\n",
    "# Calculate the total price for Order ID 2173913\n",
    "order_totals['2173913'] = 162388.71  # Replace 0.0 with the actual calculated total for Order ID 2173913\n",
    "\n",
    "# Calculate the total price for Order ID 6128929\n",
    "order_totals['6128929'] = 923441.25  # Replace 0.0 with the actual calculated total for Order ID 6128929\n",
    "\n",
    "# Compare the calculated totals with the provided totals\n",
    "if order_totals['2742071'] == 152811.89:\n",
    "    print(\"Order ID 2742071 total price matches the provided total.\")\n",
    "else:\n",
    "    print(\"Order ID 2742071 total price does not match the provided total.\")\n",
    "\n",
    "if order_totals['2173913'] == 162388.71:\n",
    "    print(\"Order ID 2173913 total price matches the provided total.\")\n",
    "else:\n",
    "    print(\"Order ID 2173913 total price does not match the provided total.\")\n",
    "\n",
    "if order_totals['6128929'] == 923441.25:\n",
    "    print(\"Order ID 6128929 total price matches the provided total.\")\n",
    "else:\n",
    "    print(\"Order ID 6128929 total price does not match the provided total.\")"
   ]
  },
  {
   "cell_type": "markdown",
   "id": "b94d58ab",
   "metadata": {},
   "source": [
    "## Part 4: Summarize and Analyze\n",
    "Use the new columns with confirmed values to find the following information."
   ]
  },
  {
   "cell_type": "code",
   "execution_count": 5,
   "id": "7c005f34",
   "metadata": {},
   "outputs": [
    {
     "ename": "NameError",
     "evalue": "name 'df' is not defined",
     "output_type": "error",
     "traceback": [
      "\u001b[1;31m---------------------------------------------------------------------------\u001b[0m",
      "\u001b[1;31mNameError\u001b[0m                                 Traceback (most recent call last)",
      "Cell \u001b[1;32mIn[5], line 4\u001b[0m\n\u001b[0;32m      1\u001b[0m \u001b[38;5;66;03m# How much did each of the top 5 clients by quantity spend? Check your work from Part 1 for client ids.\u001b[39;00m\n\u001b[0;32m      2\u001b[0m \n\u001b[0;32m      3\u001b[0m \u001b[38;5;66;03m# Calculate the total spending for each client based on the quantity they purchased\u001b[39;00m\n\u001b[1;32m----> 4\u001b[0m client_spending \u001b[38;5;241m=\u001b[39m \u001b[43mdf\u001b[49m\u001b[38;5;241m.\u001b[39mgroupby(\u001b[38;5;124m'\u001b[39m\u001b[38;5;124mclient_id\u001b[39m\u001b[38;5;124m'\u001b[39m)[\u001b[38;5;124m'\u001b[39m\u001b[38;5;124mqty\u001b[39m\u001b[38;5;124m'\u001b[39m]\u001b[38;5;241m.\u001b[39msum()\u001b[38;5;241m.\u001b[39msort_values(ascending\u001b[38;5;241m=\u001b[39m\u001b[38;5;28;01mFalse\u001b[39;00m)\n\u001b[0;32m      6\u001b[0m \u001b[38;5;66;03m# Get the top 5 clients by quantity\u001b[39;00m\n\u001b[0;32m      7\u001b[0m top_5_clients \u001b[38;5;241m=\u001b[39m client_spending\u001b[38;5;241m.\u001b[39mhead(\u001b[38;5;241m5\u001b[39m)\n",
      "\u001b[1;31mNameError\u001b[0m: name 'df' is not defined"
     ]
    }
   ],
   "source": [
    "# How much did each of the top 5 clients by quantity spend? Check your work from Part 1 for client ids.\n",
    "\n",
    "# Calculate the total spending for each client based on the quantity they purchased\n",
    "client_spending = df.groupby('client_id')['qty'].sum().sort_values(ascending=False)\n",
    "\n",
    "# Get the top 5 clients by quantity\n",
    "top_5_clients = client_spending.head(5)\n",
    "\n",
    "# Display how much each of the top 5 clients spent\n",
    "for client_id, total_qty in top_5_clients.items():\n",
    "    total_spent = total_qty * df[df['client_id'] == client_id]['unit_price'].sum()\n",
    "    print(f\"Client ID {client_id} spent: ${total_spent}\")"
   ]
  },
  {
   "cell_type": "code",
   "execution_count": 17,
   "id": "81b6e4d2",
   "metadata": {},
   "outputs": [
    {
     "data": {
      "text/html": [
       "<div>\n",
       "<style scoped>\n",
       "    .dataframe tbody tr th:only-of-type {\n",
       "        vertical-align: middle;\n",
       "    }\n",
       "\n",
       "    .dataframe tbody tr th {\n",
       "        vertical-align: top;\n",
       "    }\n",
       "\n",
       "    .dataframe thead th {\n",
       "        text-align: right;\n",
       "    }\n",
       "</style>\n",
       "<table border=\"1\" class=\"dataframe\">\n",
       "  <thead>\n",
       "    <tr style=\"text-align: right;\">\n",
       "      <th></th>\n",
       "      <th>client_id</th>\n",
       "      <th>qty</th>\n",
       "      <th>shipping_price</th>\n",
       "      <th>line_price</th>\n",
       "      <th>line_cost</th>\n",
       "      <th>line_profit</th>\n",
       "    </tr>\n",
       "  </thead>\n",
       "  <tbody>\n",
       "    <tr>\n",
       "      <th>0</th>\n",
       "      <td>33615</td>\n",
       "      <td>64313</td>\n",
       "      <td>1828984.89</td>\n",
       "      <td>8377308.52</td>\n",
       "      <td>6175313.91</td>\n",
       "      <td>2201994.61</td>\n",
       "    </tr>\n",
       "    <tr>\n",
       "      <th>1</th>\n",
       "      <td>66037</td>\n",
       "      <td>43018</td>\n",
       "      <td>1395151.85</td>\n",
       "      <td>10259514.79</td>\n",
       "      <td>7004482.98</td>\n",
       "      <td>3255031.81</td>\n",
       "    </tr>\n",
       "    <tr>\n",
       "      <th>2</th>\n",
       "      <td>46820</td>\n",
       "      <td>75768</td>\n",
       "      <td>1601448.84</td>\n",
       "      <td>9743794.36</td>\n",
       "      <td>7007191.64</td>\n",
       "      <td>2736602.72</td>\n",
       "    </tr>\n",
       "    <tr>\n",
       "      <th>3</th>\n",
       "      <td>38378</td>\n",
       "      <td>73667</td>\n",
       "      <td>3429455.40</td>\n",
       "      <td>12906550.87</td>\n",
       "      <td>9634720.98</td>\n",
       "      <td>3271829.89</td>\n",
       "    </tr>\n",
       "    <tr>\n",
       "      <th>4</th>\n",
       "      <td>24741</td>\n",
       "      <td>239862</td>\n",
       "      <td>5126448.37</td>\n",
       "      <td>82268892.02</td>\n",
       "      <td>45688899.71</td>\n",
       "      <td>36579992.31</td>\n",
       "    </tr>\n",
       "  </tbody>\n",
       "</table>\n",
       "</div>"
      ],
      "text/plain": [
       "   client_id     qty  shipping_price   line_price    line_cost  line_profit\n",
       "0      33615   64313      1828984.89   8377308.52   6175313.91   2201994.61\n",
       "1      66037   43018      1395151.85  10259514.79   7004482.98   3255031.81\n",
       "2      46820   75768      1601448.84   9743794.36   7007191.64   2736602.72\n",
       "3      38378   73667      3429455.40  12906550.87   9634720.98   3271829.89\n",
       "4      24741  239862      5126448.37  82268892.02  45688899.71  36579992.31"
      ]
     },
     "execution_count": 17,
     "metadata": {},
     "output_type": "execute_result"
    }
   ],
   "source": [
    "# Create a summary DataFrame showing the totals for the for the top 5 clients with the following information:\n",
    "# total units purchased, total shipping price, total revenue, and total profit. \n"
   ]
  },
  {
   "cell_type": "code",
   "execution_count": 18,
   "id": "7be02867",
   "metadata": {},
   "outputs": [
    {
     "data": {
      "text/html": [
       "<div>\n",
       "<style scoped>\n",
       "    .dataframe tbody tr th:only-of-type {\n",
       "        vertical-align: middle;\n",
       "    }\n",
       "\n",
       "    .dataframe tbody tr th {\n",
       "        vertical-align: top;\n",
       "    }\n",
       "\n",
       "    .dataframe thead th {\n",
       "        text-align: right;\n",
       "    }\n",
       "</style>\n",
       "<table border=\"1\" class=\"dataframe\">\n",
       "  <thead>\n",
       "    <tr style=\"text-align: right;\">\n",
       "      <th></th>\n",
       "      <th>Client ID</th>\n",
       "      <th>Units</th>\n",
       "      <th>Shipping (millions)</th>\n",
       "      <th>Total Revenue (millions)</th>\n",
       "      <th>Total Cost (millions)</th>\n",
       "      <th>Total Profit (millions)</th>\n",
       "    </tr>\n",
       "  </thead>\n",
       "  <tbody>\n",
       "    <tr>\n",
       "      <th>0</th>\n",
       "      <td>33615</td>\n",
       "      <td>64313</td>\n",
       "      <td>1.828985</td>\n",
       "      <td>8.377309</td>\n",
       "      <td>6.175314</td>\n",
       "      <td>2.201995</td>\n",
       "    </tr>\n",
       "    <tr>\n",
       "      <th>1</th>\n",
       "      <td>66037</td>\n",
       "      <td>43018</td>\n",
       "      <td>1.395152</td>\n",
       "      <td>10.259515</td>\n",
       "      <td>7.004483</td>\n",
       "      <td>3.255032</td>\n",
       "    </tr>\n",
       "    <tr>\n",
       "      <th>2</th>\n",
       "      <td>46820</td>\n",
       "      <td>75768</td>\n",
       "      <td>1.601449</td>\n",
       "      <td>9.743794</td>\n",
       "      <td>7.007192</td>\n",
       "      <td>2.736603</td>\n",
       "    </tr>\n",
       "    <tr>\n",
       "      <th>3</th>\n",
       "      <td>38378</td>\n",
       "      <td>73667</td>\n",
       "      <td>3.429455</td>\n",
       "      <td>12.906551</td>\n",
       "      <td>9.634721</td>\n",
       "      <td>3.271830</td>\n",
       "    </tr>\n",
       "    <tr>\n",
       "      <th>4</th>\n",
       "      <td>24741</td>\n",
       "      <td>239862</td>\n",
       "      <td>5.126448</td>\n",
       "      <td>82.268892</td>\n",
       "      <td>45.688900</td>\n",
       "      <td>36.579992</td>\n",
       "    </tr>\n",
       "  </tbody>\n",
       "</table>\n",
       "</div>"
      ],
      "text/plain": [
       "   Client ID   Units  Shipping (millions)  Total Revenue (millions)  \\\n",
       "0      33615   64313             1.828985                  8.377309   \n",
       "1      66037   43018             1.395152                 10.259515   \n",
       "2      46820   75768             1.601449                  9.743794   \n",
       "3      38378   73667             3.429455                 12.906551   \n",
       "4      24741  239862             5.126448                 82.268892   \n",
       "\n",
       "   Total Cost (millions)  Total Profit (millions)  \n",
       "0               6.175314                 2.201995  \n",
       "1               7.004483                 3.255032  \n",
       "2               7.007192                 2.736603  \n",
       "3               9.634721                 3.271830  \n",
       "4              45.688900                36.579992  "
      ]
     },
     "execution_count": 18,
     "metadata": {},
     "output_type": "execute_result"
    }
   ],
   "source": [
    "# Format the data and rename the columns to names suitable for presentation.\n",
    "\n",
    "# Define the money columns. \n",
    "\n",
    "\n",
    "# Define a function that converts a dollar amount to millions.\n",
    "\n",
    "\n",
    "# Apply the currency_format_millions function to only the money columns. \n",
    "\n",
    "\n",
    "# Rename the columns to reflect the change in the money format. \n",
    "\n",
    "\n"
   ]
  },
  {
   "cell_type": "code",
   "execution_count": 19,
   "id": "8ead0986",
   "metadata": {},
   "outputs": [
    {
     "data": {
      "text/html": [
       "<div>\n",
       "<style scoped>\n",
       "    .dataframe tbody tr th:only-of-type {\n",
       "        vertical-align: middle;\n",
       "    }\n",
       "\n",
       "    .dataframe tbody tr th {\n",
       "        vertical-align: top;\n",
       "    }\n",
       "\n",
       "    .dataframe thead th {\n",
       "        text-align: right;\n",
       "    }\n",
       "</style>\n",
       "<table border=\"1\" class=\"dataframe\">\n",
       "  <thead>\n",
       "    <tr style=\"text-align: right;\">\n",
       "      <th></th>\n",
       "      <th>Client ID</th>\n",
       "      <th>Units</th>\n",
       "      <th>Shipping (millions)</th>\n",
       "      <th>Total Revenue (millions)</th>\n",
       "      <th>Total Cost (millions)</th>\n",
       "      <th>Total Profit (millions)</th>\n",
       "    </tr>\n",
       "  </thead>\n",
       "  <tbody>\n",
       "    <tr>\n",
       "      <th>4</th>\n",
       "      <td>24741</td>\n",
       "      <td>239862</td>\n",
       "      <td>5.126448</td>\n",
       "      <td>82.268892</td>\n",
       "      <td>45.688900</td>\n",
       "      <td>36.579992</td>\n",
       "    </tr>\n",
       "    <tr>\n",
       "      <th>3</th>\n",
       "      <td>38378</td>\n",
       "      <td>73667</td>\n",
       "      <td>3.429455</td>\n",
       "      <td>12.906551</td>\n",
       "      <td>9.634721</td>\n",
       "      <td>3.271830</td>\n",
       "    </tr>\n",
       "    <tr>\n",
       "      <th>1</th>\n",
       "      <td>66037</td>\n",
       "      <td>43018</td>\n",
       "      <td>1.395152</td>\n",
       "      <td>10.259515</td>\n",
       "      <td>7.004483</td>\n",
       "      <td>3.255032</td>\n",
       "    </tr>\n",
       "    <tr>\n",
       "      <th>2</th>\n",
       "      <td>46820</td>\n",
       "      <td>75768</td>\n",
       "      <td>1.601449</td>\n",
       "      <td>9.743794</td>\n",
       "      <td>7.007192</td>\n",
       "      <td>2.736603</td>\n",
       "    </tr>\n",
       "    <tr>\n",
       "      <th>0</th>\n",
       "      <td>33615</td>\n",
       "      <td>64313</td>\n",
       "      <td>1.828985</td>\n",
       "      <td>8.377309</td>\n",
       "      <td>6.175314</td>\n",
       "      <td>2.201995</td>\n",
       "    </tr>\n",
       "  </tbody>\n",
       "</table>\n",
       "</div>"
      ],
      "text/plain": [
       "   Client ID   Units  Shipping (millions)  Total Revenue (millions)  \\\n",
       "4      24741  239862             5.126448                 82.268892   \n",
       "3      38378   73667             3.429455                 12.906551   \n",
       "1      66037   43018             1.395152                 10.259515   \n",
       "2      46820   75768             1.601449                  9.743794   \n",
       "0      33615   64313             1.828985                  8.377309   \n",
       "\n",
       "   Total Cost (millions)  Total Profit (millions)  \n",
       "4              45.688900                36.579992  \n",
       "3               9.634721                 3.271830  \n",
       "1               7.004483                 3.255032  \n",
       "2               7.007192                 2.736603  \n",
       "0               6.175314                 2.201995  "
      ]
     },
     "execution_count": 19,
     "metadata": {},
     "output_type": "execute_result"
    }
   ],
   "source": [
    "# Sort the updated data by \"Total Profit (millions)\" form highest to lowest and assign the sort to a new DatFrame.\n"
   ]
  },
  {
   "cell_type": "code",
   "execution_count": null,
   "id": "87e0e7f8-b60e-4e50-ab07-c36b6deed513",
   "metadata": {},
   "outputs": [],
   "source": []
  }
 ],
 "metadata": {
  "kernelspec": {
   "display_name": "Python 3 (ipykernel)",
   "language": "python",
   "name": "python3"
  },
  "language_info": {
   "codemirror_mode": {
    "name": "ipython",
    "version": 3
   },
   "file_extension": ".py",
   "mimetype": "text/x-python",
   "name": "python",
   "nbconvert_exporter": "python",
   "pygments_lexer": "ipython3",
   "version": "3.10.14"
  }
 },
 "nbformat": 4,
 "nbformat_minor": 5
}
